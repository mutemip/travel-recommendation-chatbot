{
 "cells": [
  {
   "cell_type": "code",
   "execution_count": 5,
   "id": "6d4c5e9f-85fd-43e0-b626-e75c1d3e74da",
   "metadata": {},
   "outputs": [
    {
     "name": "stdout",
     "output_type": "stream",
     "text": [
      "Running on local URL:  http://127.0.0.1:7864\n",
      "\n",
      "To create a public link, set `share=True` in `launch()`.\n"
     ]
    },
    {
     "data": {
      "text/html": [
       "<div><iframe src=\"http://127.0.0.1:7864/\" width=\"100%\" height=\"500\" allow=\"autoplay; camera; microphone; clipboard-read; clipboard-write;\" frameborder=\"0\" allowfullscreen></iframe></div>"
      ],
      "text/plain": [
       "<IPython.core.display.HTML object>"
      ]
     },
     "metadata": {},
     "output_type": "display_data"
    },
    {
     "name": "stdout",
     "output_type": "stream",
     "text": [
      "system_context: Visa requirements\n",
      "Selected model: llama3-8b-8192\n",
      "[SystemMessage(name=None, id='5c93f643-c6c9-45e2-892c-41e8f9964750', members=[], owner=None, host=None, resource='Message', version='0.1.0', type='SystemMessage', content='Visa requirements', role='system')]\n",
      "To travel from Nairobi, Kenya to London, United Kingdom, you'll need to ensure you have the necessary documents. Here's a list of what you'll typically need:\n",
      "\n",
      "1. Passport: Make sure your passport is valid for at least six months beyond your intended stay in the UK. If your passport is due to expire soon, renew it before your trip.\n",
      "\n",
      "2. Visa: As a Kenyan citizen, you'll need a visa to enter the UK. You can apply for a Standard Visitor Visa (also known as a general visitor visa) online or through a UK Visa and Immigration Application Centre.\n",
      "\n",
      "3. Biometric Residence Permit (BRP): If you're granted a visa, you'll receive a BRP, which is a biometric residence permit that will serve as your identity document in the UK.\n",
      "\n",
      "4. Return or onward ticket: You may need to show a return or onward ticket when you arrive in the UK.\n",
      "\n",
      "5. Proof of sufficient funds: You may need to show proof of sufficient funds to support yourself during your stay in the UK.\n",
      "\n",
      "6. Travel insurance: It's recommended that you have travel insurance that covers you for the duration of your stay in the UK.\n",
      "\n",
      "7. Proof of accommodation: You might need to provide proof of accommodation, such as a <class 'str'>\n"
     ]
    }
   ],
   "source": [
    "from dotenv import load_dotenv\n",
    "import sys\n",
    "import os\n",
    "import gradio as gr\n",
    "from swarmauri.standard.llms.concrete.GroqModel import GroqModel\n",
    "from swarmauri.standard.messages.concrete.SystemMessage import SystemMessage\n",
    "from swarmauri.standard.agents.concrete.SimpleConversationAgent import SimpleConversationAgent\n",
    "from swarmauri.standard.conversations.concrete.MaxSystemContextConversation import MaxSystemContextConversation\n",
    "\n",
    "# Load environment variables from .env file\n",
    "load_dotenv()\n",
    "\n",
    "# Fetch the API key from environment variables\n",
    "API_KEY = os.getenv(\"API_KEY\")\n",
    "\n",
    "\n",
    "# Initialize the GroqModel with the API key\n",
    "llm = GroqModel(api_key=API_KEY)\n",
    "\n",
    "# Get the available models from the llm instance\n",
    "allowed_models = llm.allowed_models\n",
    "\n",
    "# Initialize a MaxSystemContextConversation instance\n",
    "conversation = MaxSystemContextConversation()\n",
    "\n",
    "# Define a function to dynamically change the model based on dropdown input\n",
    "def load_model(selected_model):\n",
    "    return GroqModel(api_key=API_KEY, name=selected_model)\n",
    "\n",
    "def converse(input_text, history, system_context, model_name):\n",
    "    print(f\"system_context: {system_context}\")\n",
    "    print(f\"Selected model: {model_name}\")\n",
    "\n",
    "    # Initialize the model dynamically based on user selection\n",
    "    llm = load_model(model_name)\n",
    "\n",
    "    # Initialize the agent with the new model\n",
    "    agent = SimpleConversationAgent(llm=llm, conversation=conversation)\n",
    "\n",
    "    # Set the system context for travel recommendations\n",
    "    agent.conversation.system_context = SystemMessage(content=system_context)\n",
    "\n",
    "    # Ensure input text is a string\n",
    "    input_text = str(input_text)\n",
    "    print(conversation.history)\n",
    "\n",
    "    # Execute the input command with the agent\n",
    "    result = agent.exec(input_text)\n",
    "    print(result, type(result))\n",
    "\n",
    "    return str(result)\n",
    "\n",
    "# Define the system context for travel recommendations\n",
    "system_context = \"\"\"\n",
    "You are a travel recommendation chatbot. \n",
    "Provide personalized travel advice based on the user's preferences and needs. \n",
    "Consider factors like destination, budget, activities, and any special requests. \n",
    "Always be friendly and helpful.\n",
    "\"\"\"\n",
    "\n",
    "# Set up the Gradio ChatInterface with a dropdown for model selection\n",
    "demo = gr.ChatInterface(\n",
    "    fn=converse,\n",
    "    additional_inputs=[\n",
    "        gr.Textbox(label=\"User Preferences (e.g., destination, budget, activities)\"),\n",
    "        gr.Dropdown(label=\"Model Name\", choices=allowed_models, value=allowed_models[0])\n",
    "    ],\n",
    "    title=\"Travel Recommendation Chatbot\",\n",
    "    description=\"Get personalized travel recommendations based on your preferences.\"\n",
    ")\n",
    "\n",
    "if __name__ == \"__main__\":\n",
    "    demo.launch()\n"
   ]
  },
  {
   "cell_type": "code",
   "execution_count": null,
   "id": "bf1a430d-cc5a-4a92-9921-f68789ece695",
   "metadata": {},
   "outputs": [],
   "source": []
  }
 ],
 "metadata": {
  "kernelspec": {
   "display_name": "Python 3 (ipykernel)",
   "language": "python",
   "name": "python3"
  },
  "language_info": {
   "codemirror_mode": {
    "name": "ipython",
    "version": 3
   },
   "file_extension": ".py",
   "mimetype": "text/x-python",
   "name": "python",
   "nbconvert_exporter": "python",
   "pygments_lexer": "ipython3",
   "version": "3.10.15"
  }
 },
 "nbformat": 4,
 "nbformat_minor": 5
}
