{
 "cells": [
  {
   "cell_type": "code",
   "execution_count": 1,
   "id": "6d4c5e9f-85fd-43e0-b626-e75c1d3e74da",
   "metadata": {},
   "outputs": [
    {
     "name": "stdout",
     "output_type": "stream",
     "text": [
      "Running on local URL:  http://127.0.0.1:7860\n",
      "\n",
      "To create a public link, set `share=True` in `launch()`.\n"
     ]
    },
    {
     "data": {
      "text/html": [
       "<div><iframe src=\"http://127.0.0.1:7860/\" width=\"100%\" height=\"500\" allow=\"autoplay; camera; microphone; clipboard-read; clipboard-write;\" frameborder=\"0\" allowfullscreen></iframe></div>"
      ],
      "text/plain": [
       "<IPython.core.display.HTML object>"
      ]
     },
     "metadata": {},
     "output_type": "display_data"
    },
    {
     "name": "stdout",
     "output_type": "stream",
     "text": [
      "system_context: Visa requirements\n",
      "Selected model: llama3-8b-8192\n",
      "[SystemMessage(name=None, id='057dd82c-edb8-410d-b408-9397e0a83752', members=[], owner=None, host=None, resource='Message', version='0.1.0', type='SystemMessage', content='Visa requirements', role='system')]\n",
      "Exciting trip ahead! To travel from Nairobi, Kenya to Bali, Indonesia, you'll need to meet the following requirements:\n",
      "\n",
      "**Visa Requirements:**\n",
      "\n",
      "1. **Kenya**: Since you're starting your journey in Nairobi, Kenya, you'll need a valid passport with at least six months' validity.\n",
      "2. **Indonesia**: As a traveler from Kenya, you'll need a visa to enter Indonesia. You have a few options:\n",
      "\t* **Visa on Arrival (VOA)**: You can obtain a VOA upon arrival at Ngurah Rai International Airport in Bali. The VOA is valid for 30 days and costs around IDR 500,000 (approximately USD 35).\n",
      "\t* **Electronic Travel Authorization (e-VOA)**: You can apply for an e-VOA online before your trip. This option is available for citizens of Kenya and costs around IDR 500,000 (approximately USD 35).\n",
      "\t* **Visa at Indonesian Embassy or Consulate**: You can apply for a visa at the Indonesian Embassy or Consulate in Kenya. This option typically takes 4-7 working days and costs around IDR 1,000,000 (approximately USD 70).\n",
      "\n",
      "**Travel Documents:**\n",
      "\n",
      "1. **Passport**: <class 'str'>\n",
      "system_context: Visa requirements\n",
      "Selected model: llama3-8b-8192\n",
      "[SystemMessage(name=None, id='beb9a6f1-e516-4a38-9eb2-9134a7d1c7af', members=[], owner=None, host=None, resource='Message', version='0.1.0', type='SystemMessage', content='Visa requirements', role='system'), HumanMessage(name=None, id='6216f326-e4a6-4b9f-968b-db11c4c1b4c5', members=[], owner=None, host=None, resource='Message', version='0.1.0', type='HumanMessage', content='I want to travel from Nairobi to Bali, What are my travel requirements?', role='user'), AgentMessage(name=None, id='3b9b6ba3-c0e4-4749-8a0f-3d71cc5d6e39', members=[], owner=None, host=None, resource='Message', version='0.1.0', type='AgentMessage', content=\"Exciting trip ahead! To travel from Nairobi, Kenya to Bali, Indonesia, you'll need to meet the following requirements:\\n\\n**Visa Requirements:**\\n\\n1. **Kenya**: Since you're starting your journey in Nairobi, Kenya, you'll need a valid passport with at least six months' validity.\\n2. **Indonesia**: As a traveler from Kenya, you'll need a visa to enter Indonesia. You have a few options:\\n\\t* **Visa on Arrival (VOA)**: You can obtain a VOA upon arrival at Ngurah Rai International Airport in Bali. The VOA is valid for 30 days and costs around IDR 500,000 (approximately USD 35).\\n\\t* **Electronic Travel Authorization (e-VOA)**: You can apply for an e-VOA online before your trip. This option is available for citizens of Kenya and costs around IDR 500,000 (approximately USD 35).\\n\\t* **Visa at Indonesian Embassy or Consulate**: You can apply for a visa at the Indonesian Embassy or Consulate in Kenya. This option typically takes 4-7 working days and costs around IDR 1,000,000 (approximately USD 70).\\n\\n**Travel Documents:**\\n\\n1. **Passport**:\", role='assistant', usage=None)]\n",
      " Ensure your passport is valid for at least six months beyond your planned departure date from Indonesia.\n",
      "2. **Return or onward ticket**: You may be asked to present a return or onward ticket when departing from Kenya or arriving in Indonesia.\n",
      "3. **Travel insurance**: It's recommended to have travel insurance that covers medical, trip cancellation, and other unforeseen circumstances.\n",
      "4. **Proof of sufficient funds**: You may be required to show proof of sufficient funds for your stay in Indonesia.\n",
      "\n",
      "**Health and Vaccination Requirements:**\n",
      "\n",
      "1. **Yellow Fever Vaccination**: Since you're traveling from Kenya, you may be required to show proof of yellow fever vaccination upon arrival in Indonesia. Kenya is a yellow fever-endemic country, and Indonesia requires vaccination against yellow fever for travelers from high-risk areas.\n",
      "2. **Other vaccinations**: Consult your doctor or a travel clinic about any other vaccinations recommended for travel to Indonesia, such as hepatitis A, typhoid, and rabies.\n",
      "\n",
      "**Additional Tips:**\n",
      "\n",
      "1. **Check with your airline**: Confirm with your airline for any specific requirements, such as travel restrictions, visa requirements, or health certificates.\n",
      "2. **Research Bali**: Familiarize yourself with Bali's culture, customs, and regulations to ensure a smooth and enjoyable trip.\n",
      "3 <class 'str'>\n"
     ]
    }
   ],
   "source": [
    "from dotenv import load_dotenv\n",
    "import sys\n",
    "import os\n",
    "import gradio as gr\n",
    "from swarmauri.standard.llms.concrete.GroqModel import GroqModel\n",
    "from swarmauri.standard.messages.concrete.SystemMessage import SystemMessage\n",
    "from swarmauri.standard.agents.concrete.SimpleConversationAgent import SimpleConversationAgent\n",
    "from swarmauri.standard.conversations.concrete.MaxSystemContextConversation import MaxSystemContextConversation\n",
    "\n",
    "# Load environment variables from .env file\n",
    "load_dotenv()\n",
    "\n",
    "# Fetch the API key from environment variables\n",
    "API_KEY = os.getenv(\"API_KEY\")\n",
    "\n",
    "\n",
    "# Initialize the GroqModel with the API key\n",
    "llm = GroqModel(api_key=API_KEY)\n",
    "\n",
    "# Get the available models from the llm instance\n",
    "allowed_models = llm.allowed_models\n",
    "\n",
    "# Initialize a MaxSystemContextConversation instance\n",
    "conversation = MaxSystemContextConversation()\n",
    "\n",
    "# Define a function to dynamically change the model based on dropdown input\n",
    "def load_model(selected_model):\n",
    "    return GroqModel(api_key=API_KEY, name=selected_model)\n",
    "\n",
    "def converse(input_text, history, system_context, model_name):\n",
    "    print(f\"system_context: {system_context}\")\n",
    "    print(f\"Selected model: {model_name}\")\n",
    "\n",
    "    # Initialize the model dynamically based on user selection\n",
    "    llm = load_model(model_name)\n",
    "\n",
    "    # Initialize the agent with the new model\n",
    "    agent = SimpleConversationAgent(llm=llm, conversation=conversation)\n",
    "\n",
    "    # Set the system context for travel recommendations\n",
    "    agent.conversation.system_context = SystemMessage(content=system_context)\n",
    "\n",
    "    # Ensure input text is a string\n",
    "    input_text = str(input_text)\n",
    "    print(conversation.history)\n",
    "\n",
    "    # Execute the input command with the agent\n",
    "    result = agent.exec(input_text)\n",
    "    print(result, type(result))\n",
    "\n",
    "    return str(result)\n",
    "\n",
    "# Define the system context for travel recommendations\n",
    "system_context = \"\"\"\n",
    "You are a travel recommendation chatbot. \n",
    "Provide personalized travel advice based on the user's preferences and needs. \n",
    "Consider factors like destination, budget, activities, and any special requests. \n",
    "Always be friendly and helpful.\n",
    "\"\"\"\n",
    "\n",
    "# Set up the Gradio ChatInterface with a dropdown for model selection\n",
    "demo = gr.ChatInterface(\n",
    "    fn=converse,\n",
    "    additional_inputs=[\n",
    "        gr.Textbox(label=\"User Preferences (e.g., destination, budget, activities)\"),\n",
    "        gr.Dropdown(label=\"Model Name\", choices=allowed_models, value=allowed_models[0])\n",
    "    ],\n",
    "    title=\"Travel Recommendation Chatbot\",\n",
    "    description=\"Get personalized travel recommendations based on your preferences.\"\n",
    ")\n",
    "\n",
    "if __name__ == \"__main__\":\n",
    "    demo.launch()\n"
   ]
  },
  {
   "cell_type": "code",
   "execution_count": null,
   "id": "bf1a430d-cc5a-4a92-9921-f68789ece695",
   "metadata": {},
   "outputs": [],
   "source": []
  }
 ],
 "metadata": {
  "kernelspec": {
   "display_name": "Python 3 (ipykernel)",
   "language": "python",
   "name": "python3"
  },
  "language_info": {
   "codemirror_mode": {
    "name": "ipython",
    "version": 3
   },
   "file_extension": ".py",
   "mimetype": "text/x-python",
   "name": "python",
   "nbconvert_exporter": "python",
   "pygments_lexer": "ipython3",
   "version": "3.10.15"
  }
 },
 "nbformat": 4,
 "nbformat_minor": 5
}
